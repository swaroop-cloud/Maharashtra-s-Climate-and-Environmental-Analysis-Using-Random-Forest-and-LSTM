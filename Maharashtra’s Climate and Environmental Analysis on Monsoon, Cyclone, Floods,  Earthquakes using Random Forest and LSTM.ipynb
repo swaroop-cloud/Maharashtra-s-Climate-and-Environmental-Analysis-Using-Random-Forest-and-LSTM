{
 "cells": [
  {
   "cell_type": "markdown",
   "id": "8b44e8ce-9d52-4875-952c-51df5bb19b57",
   "metadata": {},
   "source": [
    "# CYCLONE PREDICTION"
   ]
  },
  {
   "cell_type": "code",
   "execution_count": 49,
   "id": "16a26088-a2de-4396-9de9-61b2487259cb",
   "metadata": {},
   "outputs": [],
   "source": [
    "import pandas as pd\n",
    "import numpy as np\n",
    "import matplotlib.pyplot as plt\n",
    "from sklearn.ensemble import RandomForestRegressor, RandomForestClassifier\n",
    "from sklearn.model_selection import train_test_split\n",
    "from sklearn.metrics import mean_absolute_error, accuracy_score, classification_report"
   ]
  },
  {
   "cell_type": "code",
   "execution_count": 50,
   "id": "0890f278-313b-4be3-9976-8fcafb52daab",
   "metadata": {},
   "outputs": [
    {
     "data": {
      "text/html": [
       "<div>\n",
       "<style scoped>\n",
       "    .dataframe tbody tr th:only-of-type {\n",
       "        vertical-align: middle;\n",
       "    }\n",
       "\n",
       "    .dataframe tbody tr th {\n",
       "        vertical-align: top;\n",
       "    }\n",
       "\n",
       "    .dataframe thead th {\n",
       "        text-align: right;\n",
       "    }\n",
       "</style>\n",
       "<table border=\"1\" class=\"dataframe\">\n",
       "  <thead>\n",
       "    <tr style=\"text-align: right;\">\n",
       "      <th></th>\n",
       "      <th>Sea_Surface_Temperature</th>\n",
       "      <th>Atmospheric_Pressure</th>\n",
       "      <th>Humidity</th>\n",
       "      <th>Wind_Shear</th>\n",
       "      <th>Vorticity</th>\n",
       "      <th>Latitude</th>\n",
       "      <th>Ocean_Depth</th>\n",
       "      <th>Proximity_to_Coastline</th>\n",
       "      <th>Pre_existing_Disturbance</th>\n",
       "      <th>Cyclone</th>\n",
       "    </tr>\n",
       "  </thead>\n",
       "  <tbody>\n",
       "    <tr>\n",
       "      <th>0</th>\n",
       "      <td>27.498160</td>\n",
       "      <td>1008.521429</td>\n",
       "      <td>89.279758</td>\n",
       "      <td>13.979877</td>\n",
       "      <td>0.000020</td>\n",
       "      <td>8.119890</td>\n",
       "      <td>76.137625</td>\n",
       "      <td>1.366176</td>\n",
       "      <td>1</td>\n",
       "      <td>1</td>\n",
       "    </tr>\n",
       "    <tr>\n",
       "      <th>1</th>\n",
       "      <td>28.404460</td>\n",
       "      <td>1001.242177</td>\n",
       "      <td>60.823380</td>\n",
       "      <td>19.548648</td>\n",
       "      <td>0.000084</td>\n",
       "      <td>9.246782</td>\n",
       "      <td>131.821235</td>\n",
       "      <td>0.683405</td>\n",
       "      <td>1</td>\n",
       "      <td>1</td>\n",
       "    </tr>\n",
       "    <tr>\n",
       "      <th>2</th>\n",
       "      <td>27.216969</td>\n",
       "      <td>995.742693</td>\n",
       "      <td>77.277801</td>\n",
       "      <td>9.368437</td>\n",
       "      <td>0.000063</td>\n",
       "      <td>7.789877</td>\n",
       "      <td>181.465092</td>\n",
       "      <td>0.866362</td>\n",
       "      <td>1</td>\n",
       "      <td>1</td>\n",
       "    </tr>\n",
       "    <tr>\n",
       "      <th>3</th>\n",
       "      <td>27.824280</td>\n",
       "      <td>1003.555279</td>\n",
       "      <td>67.986951</td>\n",
       "      <td>12.713517</td>\n",
       "      <td>0.000061</td>\n",
       "      <td>5.929008</td>\n",
       "      <td>323.395183</td>\n",
       "      <td>0.670524</td>\n",
       "      <td>1</td>\n",
       "      <td>1</td>\n",
       "    </tr>\n",
       "    <tr>\n",
       "      <th>4</th>\n",
       "      <td>26.260206</td>\n",
       "      <td>1008.466566</td>\n",
       "      <td>98.625281</td>\n",
       "      <td>17.125960</td>\n",
       "      <td>0.000034</td>\n",
       "      <td>6.953442</td>\n",
       "      <td>357.904862</td>\n",
       "      <td>0.940152</td>\n",
       "      <td>1</td>\n",
       "      <td>1</td>\n",
       "    </tr>\n",
       "  </tbody>\n",
       "</table>\n",
       "</div>"
      ],
      "text/plain": [
       "   Sea_Surface_Temperature  Atmospheric_Pressure   Humidity  Wind_Shear  \\\n",
       "0                27.498160           1008.521429  89.279758   13.979877   \n",
       "1                28.404460           1001.242177  60.823380   19.548648   \n",
       "2                27.216969            995.742693  77.277801    9.368437   \n",
       "3                27.824280           1003.555279  67.986951   12.713517   \n",
       "4                26.260206           1008.466566  98.625281   17.125960   \n",
       "\n",
       "   Vorticity  Latitude  Ocean_Depth  Proximity_to_Coastline  \\\n",
       "0   0.000020  8.119890    76.137625                1.366176   \n",
       "1   0.000084  9.246782   131.821235                0.683405   \n",
       "2   0.000063  7.789877   181.465092                0.866362   \n",
       "3   0.000061  5.929008   323.395183                0.670524   \n",
       "4   0.000034  6.953442   357.904862                0.940152   \n",
       "\n",
       "   Pre_existing_Disturbance  Cyclone  \n",
       "0                         1        1  \n",
       "1                         1        1  \n",
       "2                         1        1  \n",
       "3                         1        1  \n",
       "4                         1        1  "
      ]
     },
     "execution_count": 50,
     "metadata": {},
     "output_type": "execute_result"
    }
   ],
   "source": [
    "Cyclone_Data = pd.read_csv('cyclone_dataset.csv')\n",
    "Cyclone_Data.head()"
   ]
  },
  {
   "cell_type": "code",
   "execution_count": 51,
   "id": "31d661b4-40d2-4b95-918b-8878c0fa4e7a",
   "metadata": {},
   "outputs": [],
   "source": [
    "features = [\n",
    "    \"Sea_Surface_Temperature\", \"Atmospheric_Pressure\", \"Humidity\", \n",
    "    \"Wind_Shear\", \"Vorticity\", \"Latitude\", \"Ocean_Depth\", \n",
    "    \"Proximity_to_Coastline\", \"Pre_existing_Disturbance\"\n",
    "]\n",
    "target = \"Cyclone\""
   ]
  },
  {
   "cell_type": "code",
   "execution_count": 52,
   "id": "05b38d6f-8318-4757-8115-5878a5188b84",
   "metadata": {},
   "outputs": [],
   "source": [
    "Cyclone_Data = Cyclone_Data.dropna()"
   ]
  },
  {
   "cell_type": "code",
   "execution_count": 53,
   "id": "8d5653a2-4540-4a46-b28e-700574e634fe",
   "metadata": {},
   "outputs": [],
   "source": [
    "X = Cyclone_Data[features]\n",
    "y = Cyclone_Data[target]"
   ]
  },
  {
   "cell_type": "code",
   "execution_count": 54,
   "id": "d24b2ef1-f1ed-4d5e-87bd-91bac6bc5553",
   "metadata": {},
   "outputs": [],
   "source": [
    "X_train, X_test, y_train, y_test = train_test_split(X, y, test_size=0.2, random_state=42)"
   ]
  },
  {
   "cell_type": "code",
   "execution_count": 55,
   "id": "b8c1dc6d-22ad-440a-8140-e95006d485fa",
   "metadata": {},
   "outputs": [],
   "source": [
    "if Cyclone_Data[target].dtype == 'float64' or Cyclone_Data[target].dtype == 'int64':\n",
    "    model = RandomForestRegressor(n_estimators=100, random_state=42)\n",
    "    regression = True\n",
    "else:\n",
    "    model = RandomForestClassifier(n_estimators=100, random_state=42)\n",
    "    regression = False"
   ]
  },
  {
   "cell_type": "code",
   "execution_count": 56,
   "id": "9870b4ca-662e-43f9-876b-ac92d1ba3ac3",
   "metadata": {},
   "outputs": [
    {
     "data": {
      "text/html": [
       "<style>#sk-container-id-5 {color: black;background-color: white;}#sk-container-id-5 pre{padding: 0;}#sk-container-id-5 div.sk-toggleable {background-color: white;}#sk-container-id-5 label.sk-toggleable__label {cursor: pointer;display: block;width: 100%;margin-bottom: 0;padding: 0.3em;box-sizing: border-box;text-align: center;}#sk-container-id-5 label.sk-toggleable__label-arrow:before {content: \"▸\";float: left;margin-right: 0.25em;color: #696969;}#sk-container-id-5 label.sk-toggleable__label-arrow:hover:before {color: black;}#sk-container-id-5 div.sk-estimator:hover label.sk-toggleable__label-arrow:before {color: black;}#sk-container-id-5 div.sk-toggleable__content {max-height: 0;max-width: 0;overflow: hidden;text-align: left;background-color: #f0f8ff;}#sk-container-id-5 div.sk-toggleable__content pre {margin: 0.2em;color: black;border-radius: 0.25em;background-color: #f0f8ff;}#sk-container-id-5 input.sk-toggleable__control:checked~div.sk-toggleable__content {max-height: 200px;max-width: 100%;overflow: auto;}#sk-container-id-5 input.sk-toggleable__control:checked~label.sk-toggleable__label-arrow:before {content: \"▾\";}#sk-container-id-5 div.sk-estimator input.sk-toggleable__control:checked~label.sk-toggleable__label {background-color: #d4ebff;}#sk-container-id-5 div.sk-label input.sk-toggleable__control:checked~label.sk-toggleable__label {background-color: #d4ebff;}#sk-container-id-5 input.sk-hidden--visually {border: 0;clip: rect(1px 1px 1px 1px);clip: rect(1px, 1px, 1px, 1px);height: 1px;margin: -1px;overflow: hidden;padding: 0;position: absolute;width: 1px;}#sk-container-id-5 div.sk-estimator {font-family: monospace;background-color: #f0f8ff;border: 1px dotted black;border-radius: 0.25em;box-sizing: border-box;margin-bottom: 0.5em;}#sk-container-id-5 div.sk-estimator:hover {background-color: #d4ebff;}#sk-container-id-5 div.sk-parallel-item::after {content: \"\";width: 100%;border-bottom: 1px solid gray;flex-grow: 1;}#sk-container-id-5 div.sk-label:hover label.sk-toggleable__label {background-color: #d4ebff;}#sk-container-id-5 div.sk-serial::before {content: \"\";position: absolute;border-left: 1px solid gray;box-sizing: border-box;top: 0;bottom: 0;left: 50%;z-index: 0;}#sk-container-id-5 div.sk-serial {display: flex;flex-direction: column;align-items: center;background-color: white;padding-right: 0.2em;padding-left: 0.2em;position: relative;}#sk-container-id-5 div.sk-item {position: relative;z-index: 1;}#sk-container-id-5 div.sk-parallel {display: flex;align-items: stretch;justify-content: center;background-color: white;position: relative;}#sk-container-id-5 div.sk-item::before, #sk-container-id-5 div.sk-parallel-item::before {content: \"\";position: absolute;border-left: 1px solid gray;box-sizing: border-box;top: 0;bottom: 0;left: 50%;z-index: -1;}#sk-container-id-5 div.sk-parallel-item {display: flex;flex-direction: column;z-index: 1;position: relative;background-color: white;}#sk-container-id-5 div.sk-parallel-item:first-child::after {align-self: flex-end;width: 50%;}#sk-container-id-5 div.sk-parallel-item:last-child::after {align-self: flex-start;width: 50%;}#sk-container-id-5 div.sk-parallel-item:only-child::after {width: 0;}#sk-container-id-5 div.sk-dashed-wrapped {border: 1px dashed gray;margin: 0 0.4em 0.5em 0.4em;box-sizing: border-box;padding-bottom: 0.4em;background-color: white;}#sk-container-id-5 div.sk-label label {font-family: monospace;font-weight: bold;display: inline-block;line-height: 1.2em;}#sk-container-id-5 div.sk-label-container {text-align: center;}#sk-container-id-5 div.sk-container {/* jupyter's `normalize.less` sets `[hidden] { display: none; }` but bootstrap.min.css set `[hidden] { display: none !important; }` so we also need the `!important` here to be able to override the default hidden behavior on the sphinx rendered scikit-learn.org. See: https://github.com/scikit-learn/scikit-learn/issues/21755 */display: inline-block !important;position: relative;}#sk-container-id-5 div.sk-text-repr-fallback {display: none;}</style><div id=\"sk-container-id-5\" class=\"sk-top-container\"><div class=\"sk-text-repr-fallback\"><pre>RandomForestRegressor(random_state=42)</pre><b>In a Jupyter environment, please rerun this cell to show the HTML representation or trust the notebook. <br />On GitHub, the HTML representation is unable to render, please try loading this page with nbviewer.org.</b></div><div class=\"sk-container\" hidden><div class=\"sk-item\"><div class=\"sk-estimator sk-toggleable\"><input class=\"sk-toggleable__control sk-hidden--visually\" id=\"sk-estimator-id-5\" type=\"checkbox\" checked><label for=\"sk-estimator-id-5\" class=\"sk-toggleable__label sk-toggleable__label-arrow\">RandomForestRegressor</label><div class=\"sk-toggleable__content\"><pre>RandomForestRegressor(random_state=42)</pre></div></div></div></div></div>"
      ],
      "text/plain": [
       "RandomForestRegressor(random_state=42)"
      ]
     },
     "execution_count": 56,
     "metadata": {},
     "output_type": "execute_result"
    }
   ],
   "source": [
    "model.fit(X_train, y_train)"
   ]
  },
  {
   "cell_type": "code",
   "execution_count": 57,
   "id": "6138f678-0859-4c19-99de-3d432da1bf93",
   "metadata": {},
   "outputs": [],
   "source": [
    "y_pred = model.predict(X_test)"
   ]
  },
  {
   "cell_type": "code",
   "execution_count": 58,
   "id": "d8965753-8de9-46cd-a21c-4c2a5e03317b",
   "metadata": {},
   "outputs": [
    {
     "name": "stdout",
     "output_type": "stream",
     "text": [
      "Mean Absolute Error: 0.00\n"
     ]
    }
   ],
   "source": [
    "if regression:\n",
    "    mae = mean_absolute_error(y_test, y_pred)\n",
    "    print(f\"Mean Absolute Error: {mae:.2f}\")\n",
    "else:\n",
    "    accuracy = accuracy_score(y_test, y_pred)\n",
    "    print(f\"Model Accuracy: {accuracy:.2f}\")\n",
    "    print(classification_report(y_test, y_pred))\n"
   ]
  },
  {
   "cell_type": "code",
   "execution_count": 59,
   "id": "cf102a9a-03ba-4895-9d5a-9d981b913c73",
   "metadata": {},
   "outputs": [
    {
     "data": {
      "image/png": "[encoded data removed]",
      "text/plain": [
       "<Figure size 1000x600 with 1 Axes>"
      ]
     },
     "metadata": {},
     "output_type": "display_data"
    }
   ],
   "source": [
    "if regression:\n",
    "    plt.figure(figsize=(10, 6))\n",
    "    plt.scatter(y_test, y_pred, color=\"blue\", alpha=0.6, label=\"Predicted vs Actual\")\n",
    "    plt.plot([min(y_test), max(y_test)], [min(y_test), max(y_test)], color=\"red\", linestyle=\"dashed\", label=\"Ideal Fit\")\n",
    "    plt.xlabel(\"Actual Cyclone Intensity\")\n",
    "    plt.ylabel(\"Predicted Cyclone Intensity\")\n",
    "    plt.title(\"Cyclone Intensity Prediction\")\n",
    "    plt.legend()\n",
    "    plt.grid(True)\n",
    "    plt.show()"
   ]
  },
  {
   "cell_type": "code",
   "execution_count": 60,
   "id": "1f7554fa-e23b-4fc4-889c-f8630cb8430d",
   "metadata": {},
   "outputs": [
    {
     "data": {
      "text/html": [
       "<style>#sk-container-id-6 {color: black;background-color: white;}#sk-container-id-6 pre{padding: 0;}#sk-container-id-6 div.sk-toggleable {background-color: white;}#sk-container-id-6 label.sk-toggleable__label {cursor: pointer;display: block;width: 100%;margin-bottom: 0;padding: 0.3em;box-sizing: border-box;text-align: center;}#sk-container-id-6 label.sk-toggleable__label-arrow:before {content: \"▸\";float: left;margin-right: 0.25em;color: #696969;}#sk-container-id-6 label.sk-toggleable__label-arrow:hover:before {color: black;}#sk-container-id-6 div.sk-estimator:hover label.sk-toggleable__label-arrow:before {color: black;}#sk-container-id-6 div.sk-toggleable__content {max-height: 0;max-width: 0;overflow: hidden;text-align: left;background-color: #f0f8ff;}#sk-container-id-6 div.sk-toggleable__content pre {margin: 0.2em;color: black;border-radius: 0.25em;background-color: #f0f8ff;}#sk-container-id-6 input.sk-toggleable__control:checked~div.sk-toggleable__content {max-height: 200px;max-width: 100%;overflow: auto;}#sk-container-id-6 input.sk-toggleable__control:checked~label.sk-toggleable__label-arrow:before {content: \"▾\";}#sk-container-id-6 div.sk-estimator input.sk-toggleable__control:checked~label.sk-toggleable__label {background-color: #d4ebff;}#sk-container-id-6 div.sk-label input.sk-toggleable__control:checked~label.sk-toggleable__label {background-color: #d4ebff;}#sk-container-id-6 input.sk-hidden--visually {border: 0;clip: rect(1px 1px 1px 1px);clip: rect(1px, 1px, 1px, 1px);height: 1px;margin: -1px;overflow: hidden;padding: 0;position: absolute;width: 1px;}#sk-container-id-6 div.sk-estimator {font-family: monospace;background-color: #f0f8ff;border: 1px dotted black;border-radius: 0.25em;box-sizing: border-box;margin-bottom: 0.5em;}#sk-container-id-6 div.sk-estimator:hover {background-color: #d4ebff;}#sk-container-id-6 div.sk-parallel-item::after {content: \"\";width: 100%;border-bottom: 1px solid gray;flex-grow: 1;}#sk-container-id-6 div.sk-label:hover label.sk-toggleable__label {background-color: #d4ebff;}#sk-container-id-6 div.sk-serial::before {content: \"\";position: absolute;border-left: 1px solid gray;box-sizing: border-box;top: 0;bottom: 0;left: 50%;z-index: 0;}#sk-container-id-6 div.sk-serial {display: flex;flex-direction: column;align-items: center;background-color: white;padding-right: 0.2em;padding-left: 0.2em;position: relative;}#sk-container-id-6 div.sk-item {position: relative;z-index: 1;}#sk-container-id-6 div.sk-parallel {display: flex;align-items: stretch;justify-content: center;background-color: white;position: relative;}#sk-container-id-6 div.sk-item::before, #sk-container-id-6 div.sk-parallel-item::before {content: \"\";position: absolute;border-left: 1px solid gray;box-sizing: border-box;top: 0;bottom: 0;left: 50%;z-index: -1;}#sk-container-id-6 div.sk-parallel-item {display: flex;flex-direction: column;z-index: 1;position: relative;background-color: white;}#sk-container-id-6 div.sk-parallel-item:first-child::after {align-self: flex-end;width: 50%;}#sk-container-id-6 div.sk-parallel-item:last-child::after {align-self: flex-start;width: 50%;}#sk-container-id-6 div.sk-parallel-item:only-child::after {width: 0;}#sk-container-id-6 div.sk-dashed-wrapped {border: 1px dashed gray;margin: 0 0.4em 0.5em 0.4em;box-sizing: border-box;padding-bottom: 0.4em;background-color: white;}#sk-container-id-6 div.sk-label label {font-family: monospace;font-weight: bold;display: inline-block;line-height: 1.2em;}#sk-container-id-6 div.sk-label-container {text-align: center;}#sk-container-id-6 div.sk-container {/* jupyter's `normalize.less` sets `[hidden] { display: none; }` but bootstrap.min.css set `[hidden] { display: none !important; }` so we also need the `!important` here to be able to override the default hidden behavior on the sphinx rendered scikit-learn.org. See: https://github.com/scikit-learn/scikit-learn/issues/21755 */display: inline-block !important;position: relative;}#sk-container-id-6 div.sk-text-repr-fallback {display: none;}</style><div id=\"sk-container-id-6\" class=\"sk-top-container\"><div class=\"sk-text-repr-fallback\"><pre>RandomForestClassifier(n_estimators=200, random_state=42)</pre><b>In a Jupyter environment, please rerun this cell to show the HTML representation or trust the notebook. <br />On GitHub, the HTML representation is unable to render, please try loading this page with nbviewer.org.</b></div><div class=\"sk-container\" hidden><div class=\"sk-item\"><div class=\"sk-estimator sk-toggleable\"><input class=\"sk-toggleable__control sk-hidden--visually\" id=\"sk-estimator-id-6\" type=\"checkbox\" checked><label for=\"sk-estimator-id-6\" class=\"sk-toggleable__label sk-toggleable__label-arrow\">RandomForestClassifier</label><div class=\"sk-toggleable__content\"><pre>RandomForestClassifier(n_estimators=200, random_state=42)</pre></div></div></div></div></div>"
      ],
      "text/plain": [
       "RandomForestClassifier(n_estimators=200, random_state=42)"
      ]
     },
     "execution_count": 60,
     "metadata": {},
     "output_type": "execute_result"
    }
   ],
   "source": [
    "model = RandomForestClassifier(n_estimators=200, random_state=42)\n",
    "model.fit(X_train, y_train)\n"
   ]
  },
  {
   "cell_type": "code",
   "execution_count": 61,
   "id": "5c94ff3b-fb46-40a4-8c76-4d76b4794bc2",
   "metadata": {},
   "outputs": [],
   "source": [
    "y_pred = model.predict(X_test)"
   ]
  },
  {
   "cell_type": "code",
   "execution_count": 62,
   "id": "869bed58-3e57-4031-9dbb-52dc27dc18e4",
   "metadata": {},
   "outputs": [
    {
     "name": "stdout",
     "output_type": "stream",
     "text": [
      "Model Accuracy: 1.00\n",
      "              precision    recall  f1-score   support\n",
      "\n",
      "           0       1.00      1.00      1.00       201\n",
      "           1       1.00      1.00      1.00       199\n",
      "\n",
      "    accuracy                           1.00       400\n",
      "   macro avg       1.00      1.00      1.00       400\n",
      "weighted avg       1.00      1.00      1.00       400\n",
      "\n"
     ]
    }
   ],
   "source": [
    "accuracy = accuracy_score(y_test, y_pred)\n",
    "print(f\"Model Accuracy: {accuracy:.2f}\")\n",
    "print(classification_report(y_test, y_pred))"
   ]
  },
  {
   "cell_type": "code",
   "execution_count": 63,
   "id": "84048c85-1728-4836-abec-56fcafb2f7c6",
   "metadata": {},
   "outputs": [],
   "source": [
    "new_data = pd.DataFrame({\n",
    "    \"Sea_Surface_Temperature\": [28.5],  \n",
    "    \"Atmospheric_Pressure\": [1005],     \n",
    "    \"Humidity\": [85],                  \n",
    "    \"Wind_Shear\": [10],                 \n",
    "    \"Vorticity\": [7],                    \n",
    "    \"Latitude\": [12],                     \n",
    "    \"Ocean_Depth\": [3000],               \n",
    "    \"Proximity_to_Coastline\": [150],     \n",
    "    \"Pre_existing_Disturbance\": [1]    \n",
    "})"
   ]
  },
  {
   "cell_type": "code",
   "execution_count": 64,
   "id": "a6657146-4b66-4c9c-b6fc-7611e54ce2b3",
   "metadata": {},
   "outputs": [],
   "source": [
    "cyclone_prediction = model.predict(new_data)"
   ]
  },
  {
   "cell_type": "code",
   "execution_count": 65,
   "id": "08cd5ecc-8f00-40ad-aaf2-c3185fa41f32",
   "metadata": {},
   "outputs": [
    {
     "name": "stdout",
     "output_type": "stream",
     "text": [
      "WARNING: Cyclone Incoming! Take Precautions! \n"
     ]
    }
   ],
   "source": [
    "if cyclone_prediction[0] == 1:\n",
    "    print(\"WARNING: Cyclone Incoming! Take Precautions! \")\n",
    "else:\n",
    "    print(\"No Cyclone Detected. Weather is stable.\")"
   ]
  },
  {
   "cell_type": "code",
   "execution_count": 66,
   "id": "6589ee0b-8578-4f49-8228-776ea70f3484",
   "metadata": {},
   "outputs": [
    {
     "data": {
      "image/png": "[encoded data removed]",
      "text/plain": [
       "<Figure size 800x500 with 1 Axes>"
      ]
     },
     "metadata": {},
     "output_type": "display_data"
    }
   ],
   "source": [
    "plt.figure(figsize=(8, 5))\n",
    "plt.bar([\"No Cyclone\", \"Cyclone Incoming\"], model.predict_proba(new_data)[0], color=[\"green\", \"red\"])\n",
    "plt.ylabel(\"Prediction Probability\")\n",
    "plt.title(\"Cyclone Prediction Probability\")\n",
    "plt.show()"
   ]
  },
  {
   "cell_type": "markdown",
   "id": "629787e4-d0f9-446a-b915-07975057d57f",
   "metadata": {},
   "source": [
    "# FLOODS PREDICTION"
   ]
  },
  {
   "cell_type": "code",
   "execution_count": 67,
   "id": "bcf1a7f5-b73e-45d5-957c-72ef3c2fc8e4",
   "metadata": {},
   "outputs": [],
   "source": [
    "import numpy as np \n",
    "import pandas as pd\n",
    "import matplotlib.pyplot as plt\n",
    "import seaborn as sns\n",
    "import folium\n",
    "from folium.plugins import MarkerCluster\n",
    "from folium.plugins import HeatMap\n",
    "from sklearn.model_selection import train_test_split\n",
    "from sklearn.preprocessing import StandardScaler\n",
    "from sklearn.ensemble import RandomForestClassifier\n",
    "from sklearn.metrics import classification_report, accuracy_score"
   ]
  },
  {
   "cell_type": "code",
   "execution_count": 68,
   "id": "f184807a-b1b8-4799-b8b4-e4e018cff50d",
   "metadata": {},
   "outputs": [
    {
     "data": {
      "text/html": [
       "<div>\n",
       "<style scoped>\n",
       "    .dataframe tbody tr th:only-of-type {\n",
       "        vertical-align: middle;\n",
       "    }\n",
       "\n",
       "    .dataframe tbody tr th {\n",
       "        vertical-align: top;\n",
       "    }\n",
       "\n",
       "    .dataframe thead th {\n",
       "        text-align: right;\n",
       "    }\n",
       "</style>\n",
       "<table border=\"1\" class=\"dataframe\">\n",
       "  <thead>\n",
       "    <tr style=\"text-align: right;\">\n",
       "      <th></th>\n",
       "      <th>Latitude</th>\n",
       "      <th>Longitude</th>\n",
       "      <th>Rainfall (mm)</th>\n",
       "      <th>Temperature (°C)</th>\n",
       "      <th>Humidity (%)</th>\n",
       "      <th>River Discharge (m³/s)</th>\n",
       "      <th>Water Level (m)</th>\n",
       "      <th>Elevation (m)</th>\n",
       "      <th>Land Cover</th>\n",
       "      <th>Soil Type</th>\n",
       "      <th>Population Density</th>\n",
       "      <th>Infrastructure</th>\n",
       "      <th>Historical Floods</th>\n",
       "      <th>Flood Occurred</th>\n",
       "    </tr>\n",
       "  </thead>\n",
       "  <tbody>\n",
       "    <tr>\n",
       "      <th>0</th>\n",
       "      <td>18.861663</td>\n",
       "      <td>78.835584</td>\n",
       "      <td>218.999493</td>\n",
       "      <td>34.144337</td>\n",
       "      <td>43.912963</td>\n",
       "      <td>4236.182888</td>\n",
       "      <td>7.415552</td>\n",
       "      <td>377.465433</td>\n",
       "      <td>Water Body</td>\n",
       "      <td>Clay</td>\n",
       "      <td>7276.742184</td>\n",
       "      <td>1</td>\n",
       "      <td>0</td>\n",
       "      <td>1</td>\n",
       "    </tr>\n",
       "    <tr>\n",
       "      <th>1</th>\n",
       "      <td>35.570715</td>\n",
       "      <td>77.654451</td>\n",
       "      <td>55.353599</td>\n",
       "      <td>28.778774</td>\n",
       "      <td>27.585422</td>\n",
       "      <td>2472.585219</td>\n",
       "      <td>8.811019</td>\n",
       "      <td>7330.608875</td>\n",
       "      <td>Forest</td>\n",
       "      <td>Peat</td>\n",
       "      <td>6897.736956</td>\n",
       "      <td>0</td>\n",
       "      <td>1</td>\n",
       "      <td>0</td>\n",
       "    </tr>\n",
       "    <tr>\n",
       "      <th>2</th>\n",
       "      <td>29.227824</td>\n",
       "      <td>73.108463</td>\n",
       "      <td>103.991908</td>\n",
       "      <td>43.934956</td>\n",
       "      <td>30.108738</td>\n",
       "      <td>977.328053</td>\n",
       "      <td>4.631799</td>\n",
       "      <td>2205.873488</td>\n",
       "      <td>Agricultural</td>\n",
       "      <td>Loam</td>\n",
       "      <td>4361.518494</td>\n",
       "      <td>1</td>\n",
       "      <td>1</td>\n",
       "      <td>1</td>\n",
       "    </tr>\n",
       "    <tr>\n",
       "      <th>3</th>\n",
       "      <td>25.361096</td>\n",
       "      <td>85.610733</td>\n",
       "      <td>198.984191</td>\n",
       "      <td>21.569354</td>\n",
       "      <td>34.453690</td>\n",
       "      <td>3683.208933</td>\n",
       "      <td>2.891787</td>\n",
       "      <td>2512.277800</td>\n",
       "      <td>Desert</td>\n",
       "      <td>Sandy</td>\n",
       "      <td>6163.069701</td>\n",
       "      <td>1</td>\n",
       "      <td>1</td>\n",
       "      <td>0</td>\n",
       "    </tr>\n",
       "    <tr>\n",
       "      <th>4</th>\n",
       "      <td>12.524541</td>\n",
       "      <td>81.822101</td>\n",
       "      <td>144.626803</td>\n",
       "      <td>32.635692</td>\n",
       "      <td>36.292267</td>\n",
       "      <td>2093.390678</td>\n",
       "      <td>3.188466</td>\n",
       "      <td>2001.818223</td>\n",
       "      <td>Agricultural</td>\n",
       "      <td>Loam</td>\n",
       "      <td>6167.964591</td>\n",
       "      <td>1</td>\n",
       "      <td>0</td>\n",
       "      <td>0</td>\n",
       "    </tr>\n",
       "  </tbody>\n",
       "</table>\n",
       "</div>"
      ],
      "text/plain": [
       "    Latitude  Longitude  Rainfall (mm)  Temperature (°C)  Humidity (%)  \\\n",
       "0  18.861663  78.835584     218.999493         34.144337     43.912963   \n",
       "1  35.570715  77.654451      55.353599         28.778774     27.585422   \n",
       "2  29.227824  73.108463     103.991908         43.934956     30.108738   \n",
       "3  25.361096  85.610733     198.984191         21.569354     34.453690   \n",
       "4  12.524541  81.822101     144.626803         32.635692     36.292267   \n",
       "\n",
       "   River Discharge (m³/s)  Water Level (m)  Elevation (m)    Land Cover  \\\n",
       "0             4236.182888         7.415552     377.465433    Water Body   \n",
       "1             2472.585219         8.811019    7330.608875        Forest   \n",
       "2              977.328053         4.631799    2205.873488  Agricultural   \n",
       "3             3683.208933         2.891787    2512.277800        Desert   \n",
       "4             2093.390678         3.188466    2001.818223  Agricultural   \n",
       "\n",
       "  Soil Type  Population Density  Infrastructure  Historical Floods  \\\n",
       "0      Clay         7276.742184               1                  0   \n",
       "1      Peat         6897.736956               0                  1   \n",
       "2      Loam         4361.518494               1                  1   \n",
       "3     Sandy         6163.069701               1                  1   \n",
       "4      Loam         6167.964591               1                  0   \n",
       "\n",
       "   Flood Occurred  \n",
       "0               1  \n",
       "1               0  \n",
       "2               1  \n",
       "3               0  \n",
       "4               0  "
      ]
     },
     "execution_count": 68,
     "metadata": {},
     "output_type": "execute_result"
    }
   ],
   "source": [
    "Flood_Data = pd.read_csv('flood_risk_dataset_india.csv')\n",
    "Flood_Data.head()"
   ]
  },
  {
   "cell_type": "code",
   "execution_count": 69,
   "id": "249bbfcb-e168-459c-8997-ef699755c7d7",
   "metadata": {},
   "outputs": [
    {
     "data": {
      "text/plain": [
       "Latitude                  0\n",
       "Longitude                 0\n",
       "Rainfall (mm)             0\n",
       "Temperature (°C)          0\n",
       "Humidity (%)              0\n",
       "River Discharge (m³/s)    0\n",
       "Water Level (m)           0\n",
       "Elevation (m)             0\n",
       "Land Cover                0\n",
       "Soil Type                 0\n",
       "Population Density        0\n",
       "Infrastructure            0\n",
       "Historical Floods         0\n",
       "Flood Occurred            0\n",
       "dtype: int64"
      ]
     },
     "execution_count": 69,
     "metadata": {},
     "output_type": "execute_result"
    }
   ],
   "source": [
    "Flood_Data.isnull().sum()"
   ]
  },
  {
   "cell_type": "code",
   "execution_count": 70,
   "id": "5ec363cc-4fbe-408c-8216-97f540b5ced9",
   "metadata": {},
   "outputs": [
    {
     "data": {
      "image/png": "[encoded data removed]",
      "text/plain": [
       "<Figure size 1000x600 with 1 Axes>"
      ]
     },
     "metadata": {},
     "output_type": "display_data"
    }
   ],
   "source": [
    "from sklearn.ensemble import RandomForestRegressor\n",
    "from sklearn.metrics import mean_absolute_error\n",
    "np.random.seed(42)\n",
    "X = np.random.rand(100, 1) * 100  \n",
    "y = X.ravel() + np.random.normal(0, 10, 100)\n",
    "\n",
    "X_train, X_test, y_train, y_test = train_test_split(X, y, test_size=0.2, random_state=42)\n",
    "model = RandomForestRegressor(n_estimators=100, random_state=42)\n",
    "model.fit(X_train, y_train)\n",
    "\n",
    "y_pred = model.predict(X_test)\n",
    "\n",
    "plt.figure(figsize=(10, 6))\n",
    "plt.scatter(X_test, y_test, color=\"blue\", label=\"Actual Flood Levels\")\n",
    "plt.scatter(X_test, y_pred, color=\"red\", label=\"Predicted Flood Levels\")\n",
    "plt.plot(sorted(X_test.ravel()), sorted(y_pred), color=\"green\", linewidth=2, label=\"Prediction Trend\")\n",
    "plt.xlabel(\"Rainfall (mm)\")\n",
    "plt.ylabel(\"Flood Water Level\")\n",
    "plt.title(\"Flood Prediction using Random Forest\")\n",
    "plt.legend()\n",
    "plt.grid(True)\n",
    "plt.show()"
   ]
  },
  {
   "cell_type": "code",
   "execution_count": 71,
   "id": "103b1d93-f39a-44dd-9544-a3ca17025d82",
   "metadata": {},
   "outputs": [
    {
     "data": {
      "text/plain": [
       "<Axes: >"
      ]
     },
     "execution_count": 71,
     "metadata": {},
     "output_type": "execute_result"
    },
    {
     "data": {
      "image/png": "[encoded data removed]",
      "text/plain": [
       "<Figure size 640x480 with 1 Axes>"
      ]
     },
     "metadata": {},
     "output_type": "display_data"
    }
   ],
   "source": [
    "sns.heatmap(Flood_Data.isnull(), cbar=False)"
   ]
  },
  {
   "cell_type": "code",
   "execution_count": 72,
   "id": "9e2971b3-bc67-4def-bcd5-1c896c8356cf",
   "metadata": {},
   "outputs": [
    {
     "data": {
      "text/html": [
       "<div>\n",
       "<style scoped>\n",
       "    .dataframe tbody tr th:only-of-type {\n",
       "        vertical-align: middle;\n",
       "    }\n",
       "\n",
       "    .dataframe tbody tr th {\n",
       "        vertical-align: top;\n",
       "    }\n",
       "\n",
       "    .dataframe thead th {\n",
       "        text-align: right;\n",
       "    }\n",
       "</style>\n",
       "<table border=\"1\" class=\"dataframe\">\n",
       "  <thead>\n",
       "    <tr style=\"text-align: right;\">\n",
       "      <th></th>\n",
       "      <th>Flood Occurred</th>\n",
       "      <th>Flood Probability</th>\n",
       "    </tr>\n",
       "  </thead>\n",
       "  <tbody>\n",
       "    <tr>\n",
       "      <th>0</th>\n",
       "      <td>1</td>\n",
       "      <td>0.59</td>\n",
       "    </tr>\n",
       "    <tr>\n",
       "      <th>1</th>\n",
       "      <td>0</td>\n",
       "      <td>0.20</td>\n",
       "    </tr>\n",
       "    <tr>\n",
       "      <th>2</th>\n",
       "      <td>1</td>\n",
       "      <td>0.78</td>\n",
       "    </tr>\n",
       "    <tr>\n",
       "      <th>3</th>\n",
       "      <td>0</td>\n",
       "      <td>0.54</td>\n",
       "    </tr>\n",
       "    <tr>\n",
       "      <th>4</th>\n",
       "      <td>0</td>\n",
       "      <td>0.20</td>\n",
       "    </tr>\n",
       "    <tr>\n",
       "      <th>...</th>\n",
       "      <td>...</td>\n",
       "      <td>...</td>\n",
       "    </tr>\n",
       "    <tr>\n",
       "      <th>9995</th>\n",
       "      <td>0</td>\n",
       "      <td>0.26</td>\n",
       "    </tr>\n",
       "    <tr>\n",
       "      <th>9996</th>\n",
       "      <td>0</td>\n",
       "      <td>0.19</td>\n",
       "    </tr>\n",
       "    <tr>\n",
       "      <th>9997</th>\n",
       "      <td>1</td>\n",
       "      <td>0.76</td>\n",
       "    </tr>\n",
       "    <tr>\n",
       "      <th>9998</th>\n",
       "      <td>1</td>\n",
       "      <td>0.42</td>\n",
       "    </tr>\n",
       "    <tr>\n",
       "      <th>9999</th>\n",
       "      <td>1</td>\n",
       "      <td>0.79</td>\n",
       "    </tr>\n",
       "  </tbody>\n",
       "</table>\n",
       "<p>10000 rows × 2 columns</p>\n",
       "</div>"
      ],
      "text/plain": [
       "      Flood Occurred  Flood Probability\n",
       "0                  1               0.59\n",
       "1                  0               0.20\n",
       "2                  1               0.78\n",
       "3                  0               0.54\n",
       "4                  0               0.20\n",
       "...              ...                ...\n",
       "9995               0               0.26\n",
       "9996               0               0.19\n",
       "9997               1               0.76\n",
       "9998               1               0.42\n",
       "9999               1               0.79\n",
       "\n",
       "[10000 rows x 2 columns]"
      ]
     },
     "execution_count": 72,
     "metadata": {},
     "output_type": "execute_result"
    }
   ],
   "source": [
    "import pandas as pd\n",
    "from sklearn.model_selection import train_test_split\n",
    "from sklearn.preprocessing import OneHotEncoder, StandardScaler\n",
    "from sklearn.ensemble import RandomForestClassifier\n",
    "from sklearn.pipeline import Pipeline\n",
    "from sklearn.compose import ColumnTransformer\n",
    "\n",
    "X = Flood_Data.drop(columns=['Flood Occurred'])\n",
    "y = Flood_Data['Flood Occurred']\n",
    "\n",
    "numeric_features = ['Latitude', 'Longitude', 'Rainfall (mm)', 'Temperature (°C)', 'Humidity (%)',\n",
    "                    'River Discharge (m³/s)', 'Water Level (m)', 'Elevation (m)', 'Population Density']\n",
    "\n",
    "categorical_features = ['Land Cover', 'Soil Type', 'Infrastructure', 'Historical Floods']\n",
    "\n",
    "numeric_transformer = StandardScaler()\n",
    "categorical_transformer = OneHotEncoder()\n",
    "\n",
    "preprocessor = ColumnTransformer(\n",
    "    transformers=[\n",
    "        ('num', numeric_transformer, numeric_features),\n",
    "        ('cat', categorical_transformer, categorical_features)\n",
    "    ])\n",
    "\n",
    "pipeline = Pipeline(steps=[('preprocessor', preprocessor),\n",
    "                           ('classifier', RandomForestClassifier(random_state=42))])\n",
    "\n",
    "X_train, X_test, y_train, y_test = train_test_split(X, y, test_size=0.2, random_state=42)\n",
    "pipeline.fit(X_train, y_train)\n",
    "\n",
    "flood_probabilities = pipeline.predict_proba(X)[:, 1]  \n",
    "\n",
    "Flood_Data['Flood Probability'] = flood_probabilities\n",
    "\n",
    "Flood_Data[['Flood Occurred', 'Flood Probability']]\n"
   ]
  },
  {
   "cell_type": "code",
   "execution_count": 83,
   "id": "f3294c9f-782f-478e-b9ff-7792918cb6a2",
   "metadata": {},
   "outputs": [],
   "source": [
    "from sklearn.preprocessing import OneHotEncoder, StandardScaler\n",
    "from sklearn.ensemble import RandomForestRegressor\n",
    "from sklearn.pipeline import Pipeline\n",
    "from sklearn.compose import ColumnTransformer\n",
    "import pandas as pd\n",
    "from sklearn.model_selection import train_test_split\n",
    "import pickle"
   ]
  },
  {
   "cell_type": "code",
   "execution_count": 84,
   "id": "8099d5f0-3e21-453b-a930-318ebc5d2531",
   "metadata": {},
   "outputs": [],
   "source": [
    "X = Flood_Data.drop(columns=['Flood Probability'])\n",
    "y = Flood_Data['Flood Probability']"
   ]
  },
  {
   "cell_type": "code",
   "execution_count": 85,
   "id": "6cbb10a4-694e-4c56-bf0d-af7e445f8a94",
   "metadata": {},
   "outputs": [],
   "source": [
    "numeric_features = ['Latitude', 'Longitude', 'Rainfall (mm)', 'Temperature (°C)', 'Humidity (%)',\n",
    "                    'River Discharge (m³/s)', 'Water Level (m)', 'Elevation (m)', 'Population Density']\n",
    "\n",
    "categorical_features = ['Land Cover', 'Soil Type', 'Infrastructure', 'Historical Floods']"
   ]
  },
  {
   "cell_type": "code",
   "execution_count": 86,
   "id": "d9b0b715-7748-4ffb-a830-838b063eef5a",
   "metadata": {},
   "outputs": [],
   "source": [
    "numeric_transformer = StandardScaler()\n",
    "categorical_transformer = OneHotEncoder()"
   ]
  },
  {
   "cell_type": "code",
   "execution_count": 87,
   "id": "7446536e-714a-460f-9f4b-db3f9c75181d",
   "metadata": {},
   "outputs": [],
   "source": [
    "preprocessor = ColumnTransformer(\n",
    "    transformers=[\n",
    "        ('num', numeric_transformer, numeric_features),\n",
    "        ('cat', categorical_transformer, categorical_features)\n",
    "    ])"
   ]
  },
  {
   "cell_type": "code",
   "execution_count": 88,
   "id": "0206b7ef-4d14-471e-ad99-ec679ed055e9",
   "metadata": {},
   "outputs": [],
   "source": [
    "pipeline = Pipeline(steps=[('preprocessor', preprocessor),\n",
    "                           ('classifier', RandomForestRegressor(random_state=42))])"
   ]
  },
  {
   "cell_type": "code",
   "execution_count": 89,
   "id": "dc5d95ee-a6a7-449a-9489-db883ad9741c",
   "metadata": {},
   "outputs": [
    {
     "data": {
      "text/html": [
       "<style>#sk-container-id-8 {color: black;background-color: white;}#sk-container-id-8 pre{padding: 0;}#sk-container-id-8 div.sk-toggleable {background-color: white;}#sk-container-id-8 label.sk-toggleable__label {cursor: pointer;display: block;width: 100%;margin-bottom: 0;padding: 0.3em;box-sizing: border-box;text-align: center;}#sk-container-id-8 label.sk-toggleable__label-arrow:before {content: \"▸\";float: left;margin-right: 0.25em;color: #696969;}#sk-container-id-8 label.sk-toggleable__label-arrow:hover:before {color: black;}#sk-container-id-8 div.sk-estimator:hover label.sk-toggleable__label-arrow:before {color: black;}#sk-container-id-8 div.sk-toggleable__content {max-height: 0;max-width: 0;overflow: hidden;text-align: left;background-color: #f0f8ff;}#sk-container-id-8 div.sk-toggleable__content pre {margin: 0.2em;color: black;border-radius: 0.25em;background-color: #f0f8ff;}#sk-container-id-8 input.sk-toggleable__control:checked~div.sk-toggleable__content {max-height: 200px;max-width: 100%;overflow: auto;}#sk-container-id-8 input.sk-toggleable__control:checked~label.sk-toggleable__label-arrow:before {content: \"▾\";}#sk-container-id-8 div.sk-estimator input.sk-toggleable__control:checked~label.sk-toggleable__label {background-color: #d4ebff;}#sk-container-id-8 div.sk-label input.sk-toggleable__control:checked~label.sk-toggleable__label {background-color: #d4ebff;}#sk-container-id-8 input.sk-hidden--visually {border: 0;clip: rect(1px 1px 1px 1px);clip: rect(1px, 1px, 1px, 1px);height: 1px;margin: -1px;overflow: hidden;padding: 0;position: absolute;width: 1px;}#sk-container-id-8 div.sk-estimator {font-family: monospace;background-color: #f0f8ff;border: 1px dotted black;border-radius: 0.25em;box-sizing: border-box;margin-bottom: 0.5em;}#sk-container-id-8 div.sk-estimator:hover {background-color: #d4ebff;}#sk-container-id-8 div.sk-parallel-item::after {content: \"\";width: 100%;border-bottom: 1px solid gray;flex-grow: 1;}#sk-container-id-8 div.sk-label:hover label.sk-toggleable__label {background-color: #d4ebff;}#sk-container-id-8 div.sk-serial::before {content: \"\";position: absolute;border-left: 1px solid gray;box-sizing: border-box;top: 0;bottom: 0;left: 50%;z-index: 0;}#sk-container-id-8 div.sk-serial {display: flex;flex-direction: column;align-items: center;background-color: white;padding-right: 0.2em;padding-left: 0.2em;position: relative;}#sk-container-id-8 div.sk-item {position: relative;z-index: 1;}#sk-container-id-8 div.sk-parallel {display: flex;align-items: stretch;justify-content: center;background-color: white;position: relative;}#sk-container-id-8 div.sk-item::before, #sk-container-id-8 div.sk-parallel-item::before {content: \"\";position: absolute;border-left: 1px solid gray;box-sizing: border-box;top: 0;bottom: 0;left: 50%;z-index: -1;}#sk-container-id-8 div.sk-parallel-item {display: flex;flex-direction: column;z-index: 1;position: relative;background-color: white;}#sk-container-id-8 div.sk-parallel-item:first-child::after {align-self: flex-end;width: 50%;}#sk-container-id-8 div.sk-parallel-item:last-child::after {align-self: flex-start;width: 50%;}#sk-container-id-8 div.sk-parallel-item:only-child::after {width: 0;}#sk-container-id-8 div.sk-dashed-wrapped {border: 1px dashed gray;margin: 0 0.4em 0.5em 0.4em;box-sizing: border-box;padding-bottom: 0.4em;background-color: white;}#sk-container-id-8 div.sk-label label {font-family: monospace;font-weight: bold;display: inline-block;line-height: 1.2em;}#sk-container-id-8 div.sk-label-container {text-align: center;}#sk-container-id-8 div.sk-container {/* jupyter's `normalize.less` sets `[hidden] { display: none; }` but bootstrap.min.css set `[hidden] { display: none !important; }` so we also need the `!important` here to be able to override the default hidden behavior on the sphinx rendered scikit-learn.org. See: https://github.com/scikit-learn/scikit-learn/issues/21755 */display: inline-block !important;position: relative;}#sk-container-id-8 div.sk-text-repr-fallback {display: none;}</style><div id=\"sk-container-id-8\" class=\"sk-top-container\"><div class=\"sk-text-repr-fallback\"><pre>Pipeline(steps=[(&#x27;preprocessor&#x27;,\n",
       "                 ColumnTransformer(transformers=[(&#x27;num&#x27;, StandardScaler(),\n",
       "                                                  [&#x27;Latitude&#x27;, &#x27;Longitude&#x27;,\n",
       "                                                   &#x27;Rainfall (mm)&#x27;,\n",
       "                                                   &#x27;Temperature (°C)&#x27;,\n",
       "                                                   &#x27;Humidity (%)&#x27;,\n",
       "                                                   &#x27;River Discharge (m³/s)&#x27;,\n",
       "                                                   &#x27;Water Level (m)&#x27;,\n",
       "                                                   &#x27;Elevation (m)&#x27;,\n",
       "                                                   &#x27;Population Density&#x27;]),\n",
       "                                                 (&#x27;cat&#x27;,\n",
       "                                                  OneHotEncoder(handle_unknown=&#x27;ignore&#x27;),\n",
       "                                                  [&#x27;Land Cover&#x27;, &#x27;Soil Type&#x27;,\n",
       "                                                   &#x27;Infrastructure&#x27;,\n",
       "                                                   &#x27;Historical Floods&#x27;])])),\n",
       "                (&#x27;regressor&#x27;, RandomForestRegressor(random_state=42))])</pre><b>In a Jupyter environment, please rerun this cell to show the HTML representation or trust the notebook. <br />On GitHub, the HTML representation is unable to render, please try loading this page with nbviewer.org.</b></div><div class=\"sk-container\" hidden><div class=\"sk-item sk-dashed-wrapped\"><div class=\"sk-label-container\"><div class=\"sk-label sk-toggleable\"><input class=\"sk-toggleable__control sk-hidden--visually\" id=\"sk-estimator-id-14\" type=\"checkbox\" ><label for=\"sk-estimator-id-14\" class=\"sk-toggleable__label sk-toggleable__label-arrow\">Pipeline</label><div class=\"sk-toggleable__content\"><pre>Pipeline(steps=[(&#x27;preprocessor&#x27;,\n",
       "                 ColumnTransformer(transformers=[(&#x27;num&#x27;, StandardScaler(),\n",
       "                                                  [&#x27;Latitude&#x27;, &#x27;Longitude&#x27;,\n",
       "                                                   &#x27;Rainfall (mm)&#x27;,\n",
       "                                                   &#x27;Temperature (°C)&#x27;,\n",
       "                                                   &#x27;Humidity (%)&#x27;,\n",
       "                                                   &#x27;River Discharge (m³/s)&#x27;,\n",
       "                                                   &#x27;Water Level (m)&#x27;,\n",
       "                                                   &#x27;Elevation (m)&#x27;,\n",
       "                                                   &#x27;Population Density&#x27;]),\n",
       "                                                 (&#x27;cat&#x27;,\n",
       "                                                  OneHotEncoder(handle_unknown=&#x27;ignore&#x27;),\n",
       "                                                  [&#x27;Land Cover&#x27;, &#x27;Soil Type&#x27;,\n",
       "                                                   &#x27;Infrastructure&#x27;,\n",
       "                                                   &#x27;Historical Floods&#x27;])])),\n",
       "                (&#x27;regressor&#x27;, RandomForestRegressor(random_state=42))])</pre></div></div></div><div class=\"sk-serial\"><div class=\"sk-item sk-dashed-wrapped\"><div class=\"sk-label-container\"><div class=\"sk-label sk-toggleable\"><input class=\"sk-toggleable__control sk-hidden--visually\" id=\"sk-estimator-id-15\" type=\"checkbox\" ><label for=\"sk-estimator-id-15\" class=\"sk-toggleable__label sk-toggleable__label-arrow\">preprocessor: ColumnTransformer</label><div class=\"sk-toggleable__content\"><pre>ColumnTransformer(transformers=[(&#x27;num&#x27;, StandardScaler(),\n",
       "                                 [&#x27;Latitude&#x27;, &#x27;Longitude&#x27;, &#x27;Rainfall (mm)&#x27;,\n",
       "                                  &#x27;Temperature (°C)&#x27;, &#x27;Humidity (%)&#x27;,\n",
       "                                  &#x27;River Discharge (m³/s)&#x27;, &#x27;Water Level (m)&#x27;,\n",
       "                                  &#x27;Elevation (m)&#x27;, &#x27;Population Density&#x27;]),\n",
       "                                (&#x27;cat&#x27;, OneHotEncoder(handle_unknown=&#x27;ignore&#x27;),\n",
       "                                 [&#x27;Land Cover&#x27;, &#x27;Soil Type&#x27;, &#x27;Infrastructure&#x27;,\n",
       "                                  &#x27;Historical Floods&#x27;])])</pre></div></div></div><div class=\"sk-parallel\"><div class=\"sk-parallel-item\"><div class=\"sk-item\"><div class=\"sk-label-container\"><div class=\"sk-label sk-toggleable\"><input class=\"sk-toggleable__control sk-hidden--visually\" id=\"sk-estimator-id-16\" type=\"checkbox\" ><label for=\"sk-estimator-id-16\" class=\"sk-toggleable__label sk-toggleable__label-arrow\">num</label><div class=\"sk-toggleable__content\"><pre>[&#x27;Latitude&#x27;, &#x27;Longitude&#x27;, &#x27;Rainfall (mm)&#x27;, &#x27;Temperature (°C)&#x27;, &#x27;Humidity (%)&#x27;, &#x27;River Discharge (m³/s)&#x27;, &#x27;Water Level (m)&#x27;, &#x27;Elevation (m)&#x27;, &#x27;Population Density&#x27;]</pre></div></div></div><div class=\"sk-serial\"><div class=\"sk-item\"><div class=\"sk-estimator sk-toggleable\"><input class=\"sk-toggleable__control sk-hidden--visually\" id=\"sk-estimator-id-17\" type=\"checkbox\" ><label for=\"sk-estimator-id-17\" class=\"sk-toggleable__label sk-toggleable__label-arrow\">StandardScaler</label><div class=\"sk-toggleable__content\"><pre>StandardScaler()</pre></div></div></div></div></div></div><div class=\"sk-parallel-item\"><div class=\"sk-item\"><div class=\"sk-label-container\"><div class=\"sk-label sk-toggleable\"><input class=\"sk-toggleable__control sk-hidden--visually\" id=\"sk-estimator-id-18\" type=\"checkbox\" ><label for=\"sk-estimator-id-18\" class=\"sk-toggleable__label sk-toggleable__label-arrow\">cat</label><div class=\"sk-toggleable__content\"><pre>[&#x27;Land Cover&#x27;, &#x27;Soil Type&#x27;, &#x27;Infrastructure&#x27;, &#x27;Historical Floods&#x27;]</pre></div></div></div><div class=\"sk-serial\"><div class=\"sk-item\"><div class=\"sk-estimator sk-toggleable\"><input class=\"sk-toggleable__control sk-hidden--visually\" id=\"sk-estimator-id-19\" type=\"checkbox\" ><label for=\"sk-estimator-id-19\" class=\"sk-toggleable__label sk-toggleable__label-arrow\">OneHotEncoder</label><div class=\"sk-toggleable__content\"><pre>OneHotEncoder(handle_unknown=&#x27;ignore&#x27;)</pre></div></div></div></div></div></div></div></div><div class=\"sk-item\"><div class=\"sk-estimator sk-toggleable\"><input class=\"sk-toggleable__control sk-hidden--visually\" id=\"sk-estimator-id-20\" type=\"checkbox\" ><label for=\"sk-estimator-id-20\" class=\"sk-toggleable__label sk-toggleable__label-arrow\">RandomForestRegressor</label><div class=\"sk-toggleable__content\"><pre>RandomForestRegressor(random_state=42)</pre></div></div></div></div></div></div></div>"
      ],
      "text/plain": [
       "Pipeline(steps=[('preprocessor',\n",
       "                 ColumnTransformer(transformers=[('num', StandardScaler(),\n",
       "                                                  ['Latitude', 'Longitude',\n",
       "                                                   'Rainfall (mm)',\n",
       "                                                   'Temperature (°C)',\n",
       "                                                   'Humidity (%)',\n",
       "                                                   'River Discharge (m³/s)',\n",
       "                                                   'Water Level (m)',\n",
       "                                                   'Elevation (m)',\n",
       "                                                   'Population Density']),\n",
       "                                                 ('cat',\n",
       "                                                  OneHotEncoder(handle_unknown='ignore'),\n",
       "                                                  ['Land Cover', 'Soil Type',\n",
       "                                                   'Infrastructure',\n",
       "                                                   'Historical Floods'])])),\n",
       "                ('regressor', RandomForestRegressor(random_state=42))])"
      ]
     },
     "execution_count": 89,
     "metadata": {},
     "output_type": "execute_result"
    }
   ],
   "source": [
    "X = Flood_Data.drop(columns=['Flood Probability'])\n",
    "y = Flood_Data['Flood Probability']\n",
    "\n",
    "numeric_features = ['Latitude', 'Longitude', 'Rainfall (mm)', 'Temperature (°C)', 'Humidity (%)',\n",
    "                    'River Discharge (m³/s)', 'Water Level (m)', 'Elevation (m)', 'Population Density']\n",
    "categorical_features = ['Land Cover', 'Soil Type', 'Infrastructure', 'Historical Floods']\n",
    "\n",
    "numeric_transformer = StandardScaler()\n",
    "categorical_transformer = OneHotEncoder(handle_unknown='ignore')\n",
    "\n",
    "preprocessor = ColumnTransformer(\n",
    "    transformers=[\n",
    "        ('num', numeric_transformer, numeric_features),\n",
    "        ('cat', categorical_transformer, categorical_features)\n",
    "    ])\n",
    "\n",
    "pipeline = Pipeline(steps=[('preprocessor', preprocessor),\n",
    "                           ('regressor', RandomForestRegressor(random_state=42))])\n",
    "pipeline.fit(X, y)"
   ]
  },
  {
   "cell_type": "code",
   "execution_count": 90,
   "id": "62787fe9-a16e-4574-8882-9c85dd02c5df",
   "metadata": {},
   "outputs": [],
   "source": [
    "with open('flood_batata.pkl', 'wb') as file:\n",
    "    pickle.dump(pipeline, file)"
   ]
  },
  {
   "cell_type": "code",
   "execution_count": 91,
   "id": "52de763b-6f32-4d52-a2aa-25980284e3cd",
   "metadata": {},
   "outputs": [
    {
     "name": "stdout",
     "output_type": "stream",
     "text": [
      "<class 'sklearn.pipeline.Pipeline'>\n",
      "Predicted Flood Probability: 0.5654000000000008\n"
     ]
    }
   ],
   "source": [
    "with open('flood_batata.pkl', 'rb') as file:\n",
    "    loaded_model = pickle.load(file)\n",
    "\n",
    "print(type(loaded_model)) \n",
    "new_data = pd.DataFrame({\n",
    "    'Latitude': [18.861663],\n",
    "    'Longitude': [78.835584],\n",
    "    'Rainfall (mm)': [218.999493],\n",
    "    'Temperature (°C)': [34.144337],\n",
    "    'Humidity (%)': [43.912963],\n",
    "    'River Discharge (m³/s)': [4236.182888],\n",
    "    'Water Level (m)': [7.415552],\n",
    "    'Elevation (m)': [377.465433],\n",
    "    'Land Cover': ['Water Body'],\n",
    "    'Soil Type': ['Clay'],\n",
    "    'Population Density': [7276.742184],\n",
    "    'Infrastructure': [1],\n",
    "    'Historical Floods': [0]\n",
    "})\n",
    "predicted_probabilities = loaded_model.predict(new_data)\n",
    "print(f\"Predicted Flood Probability: {predicted_probabilities[0]}\")"
   ]
  },
  {
   "cell_type": "markdown",
   "id": "db58e86e-7d56-4822-8357-2ab082d11809",
   "metadata": {},
   "source": [
    "# EARTHQUAKE PREDICTION"
   ]
  },
  {
   "cell_type": "code",
   "execution_count": null,
   "id": "42734f3e-276d-4401-b4f5-f315fa7577ca",
   "metadata": {},
   "outputs": [],
   "source": [
    "import numpy as np\n",
    "import pandas as pd\n",
    "import matplotlib.pyplot as plt\n",
    "import datetime\n",
    "import time\n",
    "from sklearn.model_selection import train_test_split\n",
    "import calendar"
   ]
  },
  {
   "cell_type": "code",
   "execution_count": null,
   "id": "315da348-cd2e-43c0-9b59-24ce37161368",
   "metadata": {},
   "outputs": [],
   "source": [
    "Earthquake = pd.read_csv('EQ.csv')\n",
    "Earthquake.head()"
   ]
  },
  {
   "cell_type": "code",
   "execution_count": null,
   "id": "094f230c-5b19-4985-96d6-4104c2e1b1f1",
   "metadata": {},
   "outputs": [],
   "source": [
    "Earthquake.columns"
   ]
  },
  {
   "cell_type": "code",
   "execution_count": null,
   "id": "fc1a8ebc-7b41-47bc-af7f-265c9a83a35b",
   "metadata": {},
   "outputs": [],
   "source": [
    "Earthquake_Data = Earthquake[['Date', 'Time', 'Latitude', 'Longitude', 'Depth', 'Magnitude']]\n",
    "Earthquake_Data.head()"
   ]
  },
  {
   "cell_type": "code",
   "execution_count": null,
   "id": "d7afc180-476b-4c20-b53e-ac4bb40df89e",
   "metadata": {},
   "outputs": [],
   "source": [
    "if Earthquake_Data is not None:\n",
    "    print(Earthquake_Data.head())"
   ]
  },
  {
   "cell_type": "code",
   "execution_count": null,
   "id": "dee835a1-ad27-4d63-be7d-e17533e2ba62",
   "metadata": {},
   "outputs": [],
   "source": [
    "timestamp = []\n",
    "\n",
    "for d, t in zip(Earthquake_Data.get('Date', []), Earthquake_Data.get('Time', [])):\n",
    "    try:\n",
    "       \n",
    "        ts = datetime.datetime.strptime(d + ' ' + t, '%m/%d/%Y %H:%M:%S')\n",
    "        if ts.year < 1970 or ts.year > 3000:\n",
    "            print(f\"Skipping out-of-range date: {d} {t}\")\n",
    "            timestamp.append(None)  \n",
    "        else:\n",
    "          timestamp.append(calendar.timegm(ts.utctimetuple()))\n",
    "\n",
    "    except ValueError as e:\n",
    "        print(f\"Error parsing date/time: {d} {t} -> {e}\")\n",
    "        timestamp.append(None)  \n",
    "\n",
    "print(\"Sample Timestamps:\", timestamp[:10])\n",
    "if len(Earthquake_Data) == len(timestamp):\n",
    "    Earthquake_Data['Timestamp'] = timestamp\n",
    "else:\n",
    "    print(\"Warning: Length mismatch between DataFrame and timestamp list\")"
   ]
  },
  {
   "cell_type": "code",
   "execution_count": null,
   "id": "dafe523f-d7bd-4235-81dd-e61e423aecfb",
   "metadata": {},
   "outputs": [],
   "source": [
    "Earthquake_Data['Timestamp'] = pd.Series(timestamp)  \n",
    "print(Earthquake_Data.head())"
   ]
  },
  {
   "cell_type": "code",
   "execution_count": null,
   "id": "a21d6596-2bed-4d5a-840a-20c402931f33",
   "metadata": {},
   "outputs": [],
   "source": [
    "print(len(Earthquake_Data), len(timestamp))\n",
    "print(Earthquake_Data[Earthquake_Data['Timestamp'].isna()])\n",
    "print(Earthquake_Data.head())"
   ]
  },
  {
   "cell_type": "code",
   "execution_count": null,
   "id": "268e7c17-7702-4864-8f2d-599f92333edb",
   "metadata": {},
   "outputs": [],
   "source": [
    "EQ_Data = Earthquake_Data.drop(['Date', 'Time'], axis=1)\n",
    "EQ_Data = EQ_Data[EQ_Data.Timestamp != 'ValueError']\n",
    "EQ_Data.head()"
   ]
  },
  {
   "cell_type": "code",
   "execution_count": null,
   "id": "ce2250af-f76b-45bc-ac06-ea3a3f2794f7",
   "metadata": {},
   "outputs": [],
   "source": [
    "from mpl_toolkits.basemap import Basemap\n",
    "\n",
    "m = Basemap(projection='mill',llcrnrlat=-80,urcrnrlat=80, llcrnrlon=-180,urcrnrlon=180,lat_ts=20,resolution='c')\n",
    "\n",
    "longitudes = EQ_Data[\"Longitude\"].tolist()\n",
    "latitudes = EQ_Data[\"Latitude\"].tolist()\n",
    "\n",
    "x,y = m(longitudes,latitudes)"
   ]
  },
  {
   "cell_type": "code",
   "execution_count": null,
   "id": "7da6c5c7-4be6-4b3f-86ac-04414d324400",
   "metadata": {},
   "outputs": [],
   "source": [
    "fig = plt.figure(figsize=(12,10))\n",
    "plt.title(\"All affected areas\")\n",
    "m.plot(x, y, \"o\", markersize = 2, color = 'blue')\n",
    "m.drawcoastlines()\n",
    "m.fillcontinents(color='coral',lake_color='aqua')\n",
    "m.drawmapboundary()\n",
    "m.drawcountries()\n",
    "plt.show()"
   ]
  },
  {
   "cell_type": "markdown",
   "id": "ca42f0bb-6d44-4e30-a001-407f038c8907",
   "metadata": {},
   "source": [
    "latitudes = EQ_Data[\"19.7515\"].tolist()\n",
    "longitudes = EQ_Data[\"75.7139\"].tolist()\n",
    "\n",
    "fig = plt.figure(figsize=(12,10))\n",
    "plt.title(\"All affected areas\")\n",
    "m.plot(x, y, \"o\", markersize = 2, color = 'yellow')\n",
    "m.drawcoastlines()\n",
    "m.fillcontinents(color='coral',lake_color='aqua')\n",
    "m.drawmapboundary()\n",
    "m.drawcountries()"
   ]
  },
  {
   "cell_type": "code",
   "execution_count": null,
   "id": "86f8a743-2e63-4a8e-9da7-a305ed589d2c",
   "metadata": {},
   "outputs": [],
   "source": [
    "Picsart_25-03-08_10-28-30-524~2.jpg"
   ]
  },
  {
   "cell_type": "code",
   "execution_count": null,
   "id": "9b045abd-6cc5-4797-a893-c96ece5d94aa",
   "metadata": {},
   "outputs": [],
   "source": [
    "X = EQ_Data[['Timestamp', 'Latitude', 'Longitude']]\n",
    "y = EQ_Data[['Magnitude', 'Depth']]"
   ]
  },
  {
   "cell_type": "code",
   "execution_count": null,
   "id": "f77dca73-e01d-489a-96f9-fae547c47b14",
   "metadata": {},
   "outputs": [],
   "source": [
    "from sklearn.ensemble import RandomForestRegressor"
   ]
  },
  {
   "cell_type": "code",
   "execution_count": null,
   "id": "9e5d24fe-18f6-4866-bd61-670bb8a9afbd",
   "metadata": {},
   "outputs": [],
   "source": [
    "X = np.array(X)\n",
    "y = np.array(y)\n",
    "\n",
    "X_train, X_test, y_train, y_test = train_test_split(X, y, test_size=0.2, random_state=42)\n",
    "print(X_train.shape, X_test.shape, y_train.shape, y_test.shape)"
   ]
  },
  {
   "cell_type": "code",
   "execution_count": null,
   "id": "e60f5c0e-a6df-4f11-bcb2-2846fc5f4947",
   "metadata": {},
   "outputs": [],
   "source": [
    "from sklearn.ensemble import RandomForestRegressor\n",
    "from sklearn.impute import SimpleImputer\n",
    "from sklearn.model_selection import train_test_split\n",
    "from sklearn.metrics import mean_squared_error, r2_score\n",
    "import numpy as np\n",
    "\n",
    "print(\"Missing values in X before handling:\", np.isnan(X).sum())\n",
    "\n",
    "imputer = SimpleImputer(strategy=\"mean\")\n",
    "X_imputed = imputer.fit_transform(X)  \n",
    "\n",
    "y = np.array(y) \n",
    "\n",
    "X_train, X_test, y_train, y_test = train_test_split(X_imputed, y, test_size=0.2, random_state=42)\n",
    "\n",
    "reg = RandomForestRegressor(random_state=42)\n",
    "reg.fit(X_train, y_train)\n",
    "\n",
    "y_pred = reg.predict(X_test)  \n",
    "\n",
    "print(\"Sample Predictions:\", y_pred[:5])\n",
    "\n",
    "mse = mean_squared_error(y_test, y_pred)\n",
    "r2 = r2_score(y_test, y_pred)\n",
    "\n",
    "print(f\"Mean Squared Error: {mse}\")\n",
    "print(f\"R² Score: {r2}\")\n"
   ]
  },
  {
   "cell_type": "code",
   "execution_count": null,
   "id": "4b7d9b9e-afb3-4e90-9d96-9760bd771abb",
   "metadata": {},
   "outputs": [],
   "source": [
    "reg = RandomForestRegressor(random_state=42)\n",
    "reg.fit(X_train, y_train)\n",
    "reg.predict(X_test)"
   ]
  },
  {
   "cell_type": "code",
   "execution_count": null,
   "id": "a050daf1-926a-407a-b6e0-5a30c94975ce",
   "metadata": {},
   "outputs": [],
   "source": [
    "mse = mean_squared_error(y_test, y_pred)\n",
    "r2 = r2_score(y_test, y_pred)\n",
    "\n",
    "print(f\"Mean Squared Error: {mse}\")\n",
    "print(f\"R² Score: {r2}\")"
   ]
  },
  {
   "cell_type": "code",
   "execution_count": null,
   "id": "aa977953-f37b-455f-a9e3-5de92dbae54a",
   "metadata": {},
   "outputs": [],
   "source": [
    "reg.score(X_test, y_test)"
   ]
  },
  {
   "cell_type": "code",
   "execution_count": null,
   "id": "73d4afd2-02cd-4333-959e-6dccd125a9ba",
   "metadata": {},
   "outputs": [],
   "source": [
    "from sklearn.model_selection import GridSearchCV\n",
    "\n",
    "parameters = {'n_estimators':[10, 20, 50, 100, 200, 500]}\n",
    "\n",
    "grid_obj = GridSearchCV(reg, parameters)\n",
    "grid_fit = grid_obj.fit(X_train, y_train)\n",
    "best_fit = grid_fit.best_estimator_\n",
    "best_fit.predict(X_test)"
   ]
  },
  {
   "cell_type": "code",
   "execution_count": null,
   "id": "e9f1d8a0-5ee9-47c0-8fb4-4c00883a72e5",
   "metadata": {},
   "outputs": [],
   "source": [
    "best_fit.score(X_test, y_test)"
   ]
  },
  {
   "cell_type": "code",
   "execution_count": null,
   "id": "1c47433d-de4e-4988-a743-d6e0300c036d",
   "metadata": {},
   "outputs": [],
   "source": [
    "import matplotlib.pyplot as plt\n",
    "\n",
    "# Sample latitude and longitude data\n",
    "latitudes = [26.0173, 26.0474, 26.0889, 26.0642]  \n",
    "longitudes = [76.5026, 76.5001, 76.4786, 76.5123]  \n",
    "\n",
    "plt.figure(figsize=(8, 6))\n",
    "plt.scatter(longitudes, latitudes, c='red', marker='o', label='Locations')\n",
    "plt.xlabel(\"Longitude\")\n",
    "plt.ylabel(\"Latitude\")\n",
    "plt.title(\"Geospatial Scatter Plot\")\n",
    "plt.legend()\n",
    "plt.grid(True)\n",
    "plt.show()\n"
   ]
  },
  {
   "cell_type": "code",
   "execution_count": null,
   "id": "cb78786f-2d9c-4963-82e7-ec83c98c7ef1",
   "metadata": {},
   "outputs": [],
   "source": [
    "import matplotlib.pyplot as plt\n",
    "\n",
    "latitudes = [26.0173, 26.0474, 26.0889, 26.0642]  \n",
    "longitudes = [76.5026, 76.5001, 76.4786, 76.5123]  \n",
    "\n",
    "plt.figure(figsize=(8, 6))\n",
    "plt.scatter(longitudes, latitudes, c='red', marker='o', label='Locations')\n",
    "plt.xlabel(\"Longitude\")\n",
    "plt.ylabel(\"Latitude\")\n",
    "plt.title(\"Geospatial Scatter Plot\")\n",
    "plt.legend()\n",
    "plt.grid(True)\n",
    "plt.show()\n"
   ]
  },
  {
   "cell_type": "code",
   "execution_count": null,
   "id": "fb6a1267-e69f-48ff-a03d-23f4205a557d",
   "metadata": {},
   "outputs": [],
   "source": []
  },
  {
   "cell_type": "code",
   "execution_count": null,
   "id": "13d7591f-1a20-4b0f-9a22-542d50ff0b29",
   "metadata": {},
   "outputs": [],
   "source": []
  },
  {
   "cell_type": "code",
   "execution_count": null,
   "id": "c161db5e-2c9b-4b7f-9aa0-1de862810a60",
   "metadata": {},
   "outputs": [],
   "source": []
  },
  {
   "cell_type": "code",
   "execution_count": null,
   "id": "207b2808-19bd-48ed-a437-9fde0a659ce3",
   "metadata": {},
   "outputs": [],
   "source": []
  },
  {
   "cell_type": "code",
   "execution_count": null,
   "id": "ecad4363-214a-403f-9bb2-4d298ff34a7a",
   "metadata": {},
   "outputs": [],
   "source": []
  },
  {
   "cell_type": "code",
   "execution_count": null,
   "id": "8216a997-38f1-4591-a1dd-b3921c0a6be9",
   "metadata": {},
   "outputs": [],
   "source": []
  },
  {
   "cell_type": "code",
   "execution_count": null,
   "id": "abf02961-f110-4586-b91a-9823f36d7bac",
   "metadata": {},
   "outputs": [],
   "source": []
  }
 ],
 "metadata": {
  "kernelspec": {
   "display_name": "Python 3 (ipykernel)",
   "language": "python",
   "name": "python3"
  },
  "language_info": {
   "codemirror_mode": {
    "name": "ipython",
    "version": 3
   },
   "file_extension": ".py",
   "mimetype": "text/x-python",
   "name": "python",
   "nbconvert_exporter": "python",
   "pygments_lexer": "ipython3",
   "version": "3.11.7"
  }
 },
 "nbformat": 4,
 "nbformat_minor": 5
}
